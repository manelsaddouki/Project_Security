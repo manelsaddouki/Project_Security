{
  "nbformat": 4,
  "nbformat_minor": 0,
  "metadata": {
    "colab": {
      "provenance": [],
      "authorship_tag": "ABX9TyOtCkZHk3PUvjByKZhr3j6A",
      "include_colab_link": true
    },
    "kernelspec": {
      "name": "python3",
      "display_name": "Python 3"
    },
    "language_info": {
      "name": "python"
    }
  },
  "cells": [
    {
      "cell_type": "markdown",
      "metadata": {
        "id": "view-in-github",
        "colab_type": "text"
      },
      "source": [
        "<a href=\"https://colab.research.google.com/github/manelsaddouki/Project_Security/blob/main/Webscaping.ipynb\" target=\"_parent\"><img src=\"https://colab.research.google.com/assets/colab-badge.svg\" alt=\"Open In Colab\"/></a>"
      ]
    },
    {
      "cell_type": "code",
      "execution_count": null,
      "metadata": {
        "id": "Ob-bY68xwaZl"
      },
      "outputs": [],
      "source": [
        "!pip install beautifulsoup4==4.11.2\n",
        "!pip install lxml==4.9.1\n",
        "!pip install html5lib==1.1"
      ]
    },
    {
      "cell_type": "code",
      "source": [
        "import pandas as pd\n",
        "import requests\n",
        "from bs4 import BeautifulSoup \n",
        "import numpy as np"
      ],
      "metadata": {
        "id": "Q1tevQzUwiFE"
      },
      "execution_count": 25,
      "outputs": []
    },
    {
      "cell_type": "markdown",
      "source": [
        "# **A. Web Crawling, HTML parsing and data extraction:**\n",
        "\n",
        "###**1. Image Extraction: Inflation Rate in Tunisia** \n",
        "      "
      ],
      "metadata": {
        "id": "vBnMhX0rsaRj"
      }
    },
    {
      "cell_type": "code",
      "source": [
        "# URL of the website\n",
        "url = \"https://www.donneesmondiales.com/afrique/tunisie/inflation.php\"\n",
        "\n",
        "# Send a GET request to the website\n",
        "response = requests.get(url)\n",
        "\n",
        "# Parse the HTML content using BeautifulSoup\n",
        "soup = BeautifulSoup(response.content, \"html.parser\")\n",
        "\n",
        "# Find the first image tag in the HTML content\n",
        "img_tag = soup.find_all(\"img\")\n",
        "img_tag = img_tag[2]\n",
        "img_tag"
      ],
      "metadata": {
        "colab": {
          "base_uri": "https://localhost:8080/"
        },
        "id": "yNSEtQm8E8jZ",
        "outputId": "751487d9-05a6-461d-9bbb-505185d76dcd"
      },
      "execution_count": 26,
      "outputs": [
        {
          "output_type": "execute_result",
          "data": {
            "text/plain": [
              "<img alt=\"Taux d'inflation pour les biens de consommation en Tunisie\" class=\"graph\" height=\"200\" loading=\"lazy\" src=\"//cdn.donneesmondiales.com/graphs/inflation/tunesien-930.png\" width=\"930\"/>"
            ]
          },
          "metadata": {},
          "execution_count": 26
        }
      ]
    },
    {
      "cell_type": "code",
      "source": [
        "# Get the URL of the image\n",
        "img_url = img_tag[\"src\"]\n",
        "\n",
        "# Send a GET request to the image URL\n",
        "img_response = requests.get(\"https:\" + img_url)\n",
        "img_response \n",
        "\n",
        "# Save the image to a file\n",
        "with open(\"image.jpg\", \"wb\") as f:\n",
        "    f.write(img_response.content)\n",
        "\n",
        "from PIL import Image, ImageDraw, ImageFont\n",
        "\n",
        "inflation_image = Image.open('image.jpg')\n",
        "\n",
        "draw = ImageDraw.Draw(inflation_image)\n",
        "\n",
        "draw.text((40, 150), \"Inflation in Tunisia (Green) Compared to EU (Pink)\")\n",
        "inflation_image.show()"
      ],
      "metadata": {
        "colab": {
          "base_uri": "https://localhost:8080/",
          "height": 217
        },
        "id": "QnbShv9CQJy2",
        "outputId": "f53e0368-9306-4d62-edc2-bde110674ada"
      },
      "execution_count": 27,
      "outputs": [
        {
          "output_type": "display_data",
          "data": {
            "text/plain": [
              "<PIL.PngImagePlugin.PngImageFile image mode=P size=930x200 at 0x7F1B1C7D5D20>"
            ],
            "image/png": "[encoded data removed]"
          },
          "metadata": {}
        }
      ]
    },
    {
      "cell_type": "markdown",
      "source": [
        "###**2. Text Extraction: Inflation Rate in Tunisia** "
      ],
      "metadata": {
        "id": "GL9e0MW-3mXU"
      }
    },
    {
      "cell_type": "code",
      "source": [
        "url = \"https://www.zawya.com/en/economy/north-africa/tunisias-inflation-to-accelerate-in-2023-rblwbc4q\"\n",
        "\n",
        "# Send a GET request to the website\n",
        "response = requests.get(url)\n",
        "\n",
        "# Parse the HTML content using BeautifulSoup\n",
        "soup = BeautifulSoup(response.content, \"html.parser\")\n",
        "\n",
        "texts= soup.body.find_all(\"p\")\n",
        "description= str(texts[1])\n",
        "description = description.replace('<p>', '')\n",
        "description = description.replace('</p>', '')\n",
        "\n",
        "#print('According to Zawya website: \\n')\n",
        "#print(\" \".join(description.split()[0:20])) \n",
        "#print(\" \".join(description.split()[21:37]))\n",
        "#print(\" \".join(description.split()[37:])) "
      ],
      "metadata": {
        "colab": {
          "base_uri": "https://localhost:8080/"
        },
        "id": "OdlxDcqT9PHs",
        "outputId": "3d99b555-1df1-47ff-b7d1-96efd680c517"
      },
      "execution_count": null,
      "outputs": [
        {
          "output_type": "stream",
          "name": "stdout",
          "text": [
            "According to Zawya website: \n",
            "\n",
            "Tunisia – Tunisia's inflation will accelerate from 8.3% in 2022 to 9.5% in 2023, mainly due to higher taxes and\n",
            "food and energy subsidies, according to a commentary published by Fitch Solutions Country Risks &amp; Industry\n",
            "Research and independent sources.\n"
          ]
        }
      ]
    },
    {
      "cell_type": "markdown",
      "source": [
        "### **3. Tables Extraction:**"
      ],
      "metadata": {
        "id": "ryYjkjPerafG"
      }
    },
    {
      "cell_type": "markdown",
      "source": [
        "**a.GDP in tunisia (from 2016 to 2021)**"
      ],
      "metadata": {
        "id": "QVPjvsdN37GW"
      }
    },
    {
      "cell_type": "code",
      "source": [
        "url = \"https://www.bct.gov.tn/bct/siteprod/tableau_n.jsp?params=PL150010\"\n",
        "\n",
        "data  = requests.get(url).text"
      ],
      "metadata": {
        "id": "COwXsgmCFhzl"
      },
      "execution_count": 2,
      "outputs": []
    },
    {
      "cell_type": "code",
      "source": [
        "soup = BeautifulSoup(data, 'html5lib')"
      ],
      "metadata": {
        "id": "hW1a1aOaw_Du"
      },
      "execution_count": 3,
      "outputs": []
    },
    {
      "cell_type": "code",
      "source": [
        "tables = soup.find_all('table')"
      ],
      "metadata": {
        "id": "_mn2pOC7qWhd"
      },
      "execution_count": 4,
      "outputs": []
    },
    {
      "cell_type": "code",
      "source": [
        "print(tables[1].prettify())"
      ],
      "metadata": {
        "id": "8-IStUF65c7a"
      },
      "execution_count": null,
      "outputs": []
    },
    {
      "cell_type": "code",
      "source": [
        "PIB_data = pd.DataFrame(columns=[\"D2016\", \"D2017\", \"D2018\", \"D2019\", \"D2020\", \"D2021\"])\n",
        "\n",
        "# First we isolate the body of the table which contains all the information\n",
        "# Then we loop through each row and find all the column values for each row\n",
        "for row in tables[1].thead.find_all(\"tr\"):\n",
        "    col = row.find_all(\"td\")\n",
        "    if (col != []):\n",
        "      D2016 = col[0].text.strip()\n",
        "      D2017 = col[1].text.strip()\n",
        "      D2018 = col[2].text.strip()\n",
        "      D2019 = col[3].text.strip()\n",
        "      D2020 = col[4].text.strip()\n",
        "      D2021 = col[5].text.strip()\n",
        "    \n",
        "    # Finally we append the data of each row to the table\n",
        "    PIB_data = PIB_data.append({\"D2016\": 2016, \"D2017\":2017 , \"D2018\": 2018, \"D2019\": 2019, \"D2020\": 2020, \"D2021\": 2021}, ignore_index=True)    \n"
      ],
      "metadata": {
        "id": "Nxvtwzm0xGiY"
      },
      "execution_count": null,
      "outputs": []
    },
    {
      "cell_type": "code",
      "source": [
        "#print(PIB_data.head())"
      ],
      "metadata": {
        "id": "xBDELuYS5CZN"
      },
      "execution_count": null,
      "outputs": []
    },
    {
      "cell_type": "code",
      "source": [
        "read_html_pandas_data = pd.read_html(url)"
      ],
      "metadata": {
        "id": "47gCeIDQ8DWR"
      },
      "execution_count": 7,
      "outputs": []
    },
    {
      "cell_type": "code",
      "source": [
        "read_html_pandas_data = pd.read_html(str(soup))"
      ],
      "metadata": {
        "id": "KB3n99ZW8FE6"
      },
      "execution_count": 8,
      "outputs": []
    },
    {
      "cell_type": "code",
      "source": [
        "PIB_df = pd.read_html(str(tables[1]), flavor='bs4')[0]\n",
        "PIB_df = PIB_df.dropna()\n",
        "\n",
        "PIB_df"
      ],
      "metadata": {
        "colab": {
          "base_uri": "https://localhost:8080/",
          "height": 614
        },
        "id": "uzrzLb5L8H7M",
        "outputId": "44af3de7-5e14-439c-df6f-b5a99b5367ca"
      },
      "execution_count": 9,
      "outputs": [
        {
          "output_type": "execute_result",
          "data": {
            "text/plain": [
              "                                          Indicateurs      2016       2017  \\\n",
              "1   Produit intérieur Brut aux prix constants de l...  908057.0   974254.0   \n",
              "2                       PIB hors agriculture et pêche  831717.0   888261.0   \n",
              "3            Valeur ajoutée de l'agriculture et pêche   76340.0    85993.0   \n",
              "4            Produit intérieur Brut aux prix courants  952869.0  1020115.0   \n",
              "5               Déflateur du PIB (accroissement en %)      49.0       47.0   \n",
              "6                        RNDB par habitant(en dinars)   86184.0    91506.0   \n",
              "7                       RNDB par habitant(en dollars)   40138.0    37820.0   \n",
              "8               Revenu National Disponible Brut(RNDB)  973261.0  1044834.0   \n",
              "9                       Consommation nationale totale  857840.0   929050.0   \n",
              "10                              Consommation publique  178370.0   195092.0   \n",
              "11                                Consommation privée  679470.0   733958.0   \n",
              "12  Propension moyenne à consommer (consommation/R...     881.0      889.0   \n",
              "13                            Epargne nationale brute  115420.0   115780.0   \n",
              "14         Taux d'épargne nationale (en % du RNDB)(3)     119.0      111.0   \n",
              "15                    Formation brute de capital fixe  195316.0   204495.0   \n",
              "18              Taux d'investissement (en %du PIB)(3)     205.0      200.0   \n",
              "19        Indice des prix à la consommation(2010=100)    1314.0     1383.0   \n",
              "21             Création d'emplois(en mille postes)(4)     347.0      433.0   \n",
              "\n",
              "         2018       2019       2020       2021  \n",
              "1   1046549.0  1146840.0  1123670.0  1248058.0  \n",
              "2    949463.0  1028415.0  1003289.0  1126979.0  \n",
              "3     97086.0   118425.0   120381.0   121079.0  \n",
              "4   1129855.0  1229693.0  1196334.0  1304661.0  \n",
              "5        80.0       72.0       65.0       45.0  \n",
              "6    100173.0   108379.0   104519.0   115682.0  \n",
              "7     37847.0    36950.0    37181.0    41370.0  \n",
              "8   1155203.0  1261320.0  1225610.0  1363160.0  \n",
              "9   1016155.0  1114452.0  1143815.0  1237301.0  \n",
              "10   207758.0   231385.0   258547.0   273696.0  \n",
              "11   808397.0   883067.0   885269.0   963605.0  \n",
              "12      880.0      884.0      933.0      908.0  \n",
              "13   139050.0   146870.0    81790.0   125860.0  \n",
              "14      120.0      116.0       67.0       92.0  \n",
              "15   221461.0   238992.0   188898.0   209264.0  \n",
              "18      196.0      194.0      158.0      160.0  \n",
              "19     1487.0     1588.0     1677.0     1773.0  \n",
              "21      277.0      588.0    -1330.0      534.0  "
            ],
            "text/html": [
              "\n",
              "  <div id=\"df-0b6103eb-4d1c-4ba0-932a-64a27fa5604f\">\n",
              "    <div class=\"colab-df-container\">\n",
              "      <div>\n",
              "<style scoped>\n",
              "    .dataframe tbody tr th:only-of-type {\n",
              "        vertical-align: middle;\n",
              "    }\n",
              "\n",
              "    .dataframe tbody tr th {\n",
              "        vertical-align: top;\n",
              "    }\n",
              "\n",
              "    .dataframe thead th {\n",
              "        text-align: right;\n",
              "    }\n",
              "</style>\n",
              "<table border=\"1\" class=\"dataframe\">\n",
              "  <thead>\n",
              "    <tr style=\"text-align: right;\">\n",
              "      <th></th>\n",
              "      <th>Indicateurs</th>\n",
              "      <th>2016</th>\n",
              "      <th>2017</th>\n",
              "      <th>2018</th>\n",
              "      <th>2019</th>\n",
              "      <th>2020</th>\n",
              "      <th>2021</th>\n",
              "    </tr>\n",
              "  </thead>\n",
              "  <tbody>\n",
              "    <tr>\n",
              "      <th>1</th>\n",
              "      <td>Produit intérieur Brut aux prix constants de l...</td>\n",
              "      <td>908057.0</td>\n",
              "      <td>974254.0</td>\n",
              "      <td>1046549.0</td>\n",
              "      <td>1146840.0</td>\n",
              "      <td>1123670.0</td>\n",
              "      <td>1248058.0</td>\n",
              "    </tr>\n",
              "    <tr>\n",
              "      <th>2</th>\n",
              "      <td>PIB hors agriculture et pêche</td>\n",
              "      <td>831717.0</td>\n",
              "      <td>888261.0</td>\n",
              "      <td>949463.0</td>\n",
              "      <td>1028415.0</td>\n",
              "      <td>1003289.0</td>\n",
              "      <td>1126979.0</td>\n",
              "    </tr>\n",
              "    <tr>\n",
              "      <th>3</th>\n",
              "      <td>Valeur ajoutée de l'agriculture et pêche</td>\n",
              "      <td>76340.0</td>\n",
              "      <td>85993.0</td>\n",
              "      <td>97086.0</td>\n",
              "      <td>118425.0</td>\n",
              "      <td>120381.0</td>\n",
              "      <td>121079.0</td>\n",
              "    </tr>\n",
              "    <tr>\n",
              "      <th>4</th>\n",
              "      <td>Produit intérieur Brut aux prix courants</td>\n",
              "      <td>952869.0</td>\n",
              "      <td>1020115.0</td>\n",
              "      <td>1129855.0</td>\n",
              "      <td>1229693.0</td>\n",
              "      <td>1196334.0</td>\n",
              "      <td>1304661.0</td>\n",
              "    </tr>\n",
              "    <tr>\n",
              "      <th>5</th>\n",
              "      <td>Déflateur du PIB (accroissement en %)</td>\n",
              "      <td>49.0</td>\n",
              "      <td>47.0</td>\n",
              "      <td>80.0</td>\n",
              "      <td>72.0</td>\n",
              "      <td>65.0</td>\n",
              "      <td>45.0</td>\n",
              "    </tr>\n",
              "    <tr>\n",
              "      <th>6</th>\n",
              "      <td>RNDB par habitant(en dinars)</td>\n",
              "      <td>86184.0</td>\n",
              "      <td>91506.0</td>\n",
              "      <td>100173.0</td>\n",
              "      <td>108379.0</td>\n",
              "      <td>104519.0</td>\n",
              "      <td>115682.0</td>\n",
              "    </tr>\n",
              "    <tr>\n",
              "      <th>7</th>\n",
              "      <td>RNDB par habitant(en dollars)</td>\n",
              "      <td>40138.0</td>\n",
              "      <td>37820.0</td>\n",
              "      <td>37847.0</td>\n",
              "      <td>36950.0</td>\n",
              "      <td>37181.0</td>\n",
              "      <td>41370.0</td>\n",
              "    </tr>\n",
              "    <tr>\n",
              "      <th>8</th>\n",
              "      <td>Revenu National Disponible Brut(RNDB)</td>\n",
              "      <td>973261.0</td>\n",
              "      <td>1044834.0</td>\n",
              "      <td>1155203.0</td>\n",
              "      <td>1261320.0</td>\n",
              "      <td>1225610.0</td>\n",
              "      <td>1363160.0</td>\n",
              "    </tr>\n",
              "    <tr>\n",
              "      <th>9</th>\n",
              "      <td>Consommation nationale totale</td>\n",
              "      <td>857840.0</td>\n",
              "      <td>929050.0</td>\n",
              "      <td>1016155.0</td>\n",
              "      <td>1114452.0</td>\n",
              "      <td>1143815.0</td>\n",
              "      <td>1237301.0</td>\n",
              "    </tr>\n",
              "    <tr>\n",
              "      <th>10</th>\n",
              "      <td>Consommation publique</td>\n",
              "      <td>178370.0</td>\n",
              "      <td>195092.0</td>\n",
              "      <td>207758.0</td>\n",
              "      <td>231385.0</td>\n",
              "      <td>258547.0</td>\n",
              "      <td>273696.0</td>\n",
              "    </tr>\n",
              "    <tr>\n",
              "      <th>11</th>\n",
              "      <td>Consommation privée</td>\n",
              "      <td>679470.0</td>\n",
              "      <td>733958.0</td>\n",
              "      <td>808397.0</td>\n",
              "      <td>883067.0</td>\n",
              "      <td>885269.0</td>\n",
              "      <td>963605.0</td>\n",
              "    </tr>\n",
              "    <tr>\n",
              "      <th>12</th>\n",
              "      <td>Propension moyenne à consommer (consommation/R...</td>\n",
              "      <td>881.0</td>\n",
              "      <td>889.0</td>\n",
              "      <td>880.0</td>\n",
              "      <td>884.0</td>\n",
              "      <td>933.0</td>\n",
              "      <td>908.0</td>\n",
              "    </tr>\n",
              "    <tr>\n",
              "      <th>13</th>\n",
              "      <td>Epargne nationale brute</td>\n",
              "      <td>115420.0</td>\n",
              "      <td>115780.0</td>\n",
              "      <td>139050.0</td>\n",
              "      <td>146870.0</td>\n",
              "      <td>81790.0</td>\n",
              "      <td>125860.0</td>\n",
              "    </tr>\n",
              "    <tr>\n",
              "      <th>14</th>\n",
              "      <td>Taux d'épargne nationale (en % du RNDB)(3)</td>\n",
              "      <td>119.0</td>\n",
              "      <td>111.0</td>\n",
              "      <td>120.0</td>\n",
              "      <td>116.0</td>\n",
              "      <td>67.0</td>\n",
              "      <td>92.0</td>\n",
              "    </tr>\n",
              "    <tr>\n",
              "      <th>15</th>\n",
              "      <td>Formation brute de capital fixe</td>\n",
              "      <td>195316.0</td>\n",
              "      <td>204495.0</td>\n",
              "      <td>221461.0</td>\n",
              "      <td>238992.0</td>\n",
              "      <td>188898.0</td>\n",
              "      <td>209264.0</td>\n",
              "    </tr>\n",
              "    <tr>\n",
              "      <th>18</th>\n",
              "      <td>Taux d'investissement (en %du PIB)(3)</td>\n",
              "      <td>205.0</td>\n",
              "      <td>200.0</td>\n",
              "      <td>196.0</td>\n",
              "      <td>194.0</td>\n",
              "      <td>158.0</td>\n",
              "      <td>160.0</td>\n",
              "    </tr>\n",
              "    <tr>\n",
              "      <th>19</th>\n",
              "      <td>Indice des prix à la consommation(2010=100)</td>\n",
              "      <td>1314.0</td>\n",
              "      <td>1383.0</td>\n",
              "      <td>1487.0</td>\n",
              "      <td>1588.0</td>\n",
              "      <td>1677.0</td>\n",
              "      <td>1773.0</td>\n",
              "    </tr>\n",
              "    <tr>\n",
              "      <th>21</th>\n",
              "      <td>Création d'emplois(en mille postes)(4)</td>\n",
              "      <td>347.0</td>\n",
              "      <td>433.0</td>\n",
              "      <td>277.0</td>\n",
              "      <td>588.0</td>\n",
              "      <td>-1330.0</td>\n",
              "      <td>534.0</td>\n",
              "    </tr>\n",
              "  </tbody>\n",
              "</table>\n",
              "</div>\n",
              "      <button class=\"colab-df-convert\" onclick=\"convertToInteractive('df-0b6103eb-4d1c-4ba0-932a-64a27fa5604f')\"\n",
              "              title=\"Convert this dataframe to an interactive table.\"\n",
              "              style=\"display:none;\">\n",
              "        \n",
              "  <svg xmlns=\"http://www.w3.org/2000/svg\" height=\"24px\"viewBox=\"0 0 24 24\"\n",
              "       width=\"24px\">\n",
              "    <path d=\"M0 0h24v24H0V0z\" fill=\"none\"/>\n",
              "    <path d=\"M18.56 5.44l.94 2.06.94-2.06 2.06-.94-2.06-.94-.94-2.06-.94 2.06-2.06.94zm-11 1L8.5 8.5l.94-2.06 2.06-.94-2.06-.94L8.5 2.5l-.94 2.06-2.06.94zm10 10l.94 2.06.94-2.06 2.06-.94-2.06-.94-.94-2.06-.94 2.06-2.06.94z\"/><path d=\"M17.41 7.96l-1.37-1.37c-.4-.4-.92-.59-1.43-.59-.52 0-1.04.2-1.43.59L10.3 9.45l-7.72 7.72c-.78.78-.78 2.05 0 2.83L4 21.41c.39.39.9.59 1.41.59.51 0 1.02-.2 1.41-.59l7.78-7.78 2.81-2.81c.8-.78.8-2.07 0-2.86zM5.41 20L4 18.59l7.72-7.72 1.47 1.35L5.41 20z\"/>\n",
              "  </svg>\n",
              "      </button>\n",
              "      \n",
              "  <style>\n",
              "    .colab-df-container {\n",
              "      display:flex;\n",
              "      flex-wrap:wrap;\n",
              "      gap: 12px;\n",
              "    }\n",
              "\n",
              "    .colab-df-convert {\n",
              "      background-color: #E8F0FE;\n",
              "      border: none;\n",
              "      border-radius: 50%;\n",
              "      cursor: pointer;\n",
              "      display: none;\n",
              "      fill: #1967D2;\n",
              "      height: 32px;\n",
              "      padding: 0 0 0 0;\n",
              "      width: 32px;\n",
              "    }\n",
              "\n",
              "    .colab-df-convert:hover {\n",
              "      background-color: #E2EBFA;\n",
              "      box-shadow: 0px 1px 2px rgba(60, 64, 67, 0.3), 0px 1px 3px 1px rgba(60, 64, 67, 0.15);\n",
              "      fill: #174EA6;\n",
              "    }\n",
              "\n",
              "    [theme=dark] .colab-df-convert {\n",
              "      background-color: #3B4455;\n",
              "      fill: #D2E3FC;\n",
              "    }\n",
              "\n",
              "    [theme=dark] .colab-df-convert:hover {\n",
              "      background-color: #434B5C;\n",
              "      box-shadow: 0px 1px 3px 1px rgba(0, 0, 0, 0.15);\n",
              "      filter: drop-shadow(0px 1px 2px rgba(0, 0, 0, 0.3));\n",
              "      fill: #FFFFFF;\n",
              "    }\n",
              "  </style>\n",
              "\n",
              "      <script>\n",
              "        const buttonEl =\n",
              "          document.querySelector('#df-0b6103eb-4d1c-4ba0-932a-64a27fa5604f button.colab-df-convert');\n",
              "        buttonEl.style.display =\n",
              "          google.colab.kernel.accessAllowed ? 'block' : 'none';\n",
              "\n",
              "        async function convertToInteractive(key) {\n",
              "          const element = document.querySelector('#df-0b6103eb-4d1c-4ba0-932a-64a27fa5604f');\n",
              "          const dataTable =\n",
              "            await google.colab.kernel.invokeFunction('convertToInteractive',\n",
              "                                                     [key], {});\n",
              "          if (!dataTable) return;\n",
              "\n",
              "          const docLinkHtml = 'Like what you see? Visit the ' +\n",
              "            '<a target=\"_blank\" href=https://colab.research.google.com/notebooks/data_table.ipynb>data table notebook</a>'\n",
              "            + ' to learn more about interactive tables.';\n",
              "          element.innerHTML = '';\n",
              "          dataTable['output_type'] = 'display_data';\n",
              "          await google.colab.output.renderOutput(dataTable, element);\n",
              "          const docLink = document.createElement('div');\n",
              "          docLink.innerHTML = docLinkHtml;\n",
              "          element.appendChild(docLink);\n",
              "        }\n",
              "      </script>\n",
              "    </div>\n",
              "  </div>\n",
              "  "
            ]
          },
          "metadata": {},
          "execution_count": 9
        }
      ]
    },
    {
      "cell_type": "markdown",
      "source": [
        "### **b.Performance of the private sector (2011-2019)**"
      ],
      "metadata": {
        "id": "wcdlh5n_rj7O"
      }
    },
    {
      "cell_type": "code",
      "source": [
        "INS_url1 = \"http://www.ins.tn/statistiques/93\"\n",
        "\n",
        "INS_data1  = requests.get(INS_url1).text"
      ],
      "metadata": {
        "id": "-9KpQ-Om6gSd"
      },
      "execution_count": 10,
      "outputs": []
    },
    {
      "cell_type": "code",
      "source": [
        "soup1 = BeautifulSoup(INS_data1, 'html5lib')"
      ],
      "metadata": {
        "id": "l99oYFg57yI6"
      },
      "execution_count": 11,
      "outputs": []
    },
    {
      "cell_type": "code",
      "source": [
        "tables1 = soup1.find_all('table')"
      ],
      "metadata": {
        "id": "OCo8NPWl78y6"
      },
      "execution_count": 12,
      "outputs": []
    },
    {
      "cell_type": "code",
      "source": [
        "print(tables1[0].prettify())"
      ],
      "metadata": {
        "id": "LKZ143sV8Bcj"
      },
      "execution_count": null,
      "outputs": []
    },
    {
      "cell_type": "code",
      "source": [
        "INS_data1 = pd.DataFrame(columns=[\"D2016\", \"D2017\", \"D2018\", \"D2019\"])\n",
        "\n",
        "# First we isolate the body of the table which contains all the information\n",
        "# Then we loop through each row and find all the column values for each row\n",
        "for row in tables1[0].thead.find_all(\"tr\"):\n",
        "    col = row.find_all(\"td\")\n",
        "    if (col != []):\n",
        "      D2016 = col[3].text.strip()\n",
        "      D2017 = col[4].text.strip()\n",
        "      D2018 = col[5].text.strip()\n",
        "      D2019 = col[6].text.strip()\n",
        "    \n",
        "    # Finally we append the data of each row to the table\n",
        "    INS_data1 = INS_data1.append({\"D2016\": 2016, \"D2017\":2017 , \"D2018\": 2018, \"D2019\": 2019}, ignore_index=True)    \n"
      ],
      "metadata": {
        "id": "2dfGwUsc8PqK",
        "colab": {
          "base_uri": "https://localhost:8080/"
        },
        "outputId": "b351d323-7f6a-4019-a0e3-3de1f0f39625"
      },
      "execution_count": 13,
      "outputs": [
        {
          "output_type": "stream",
          "name": "stderr",
          "text": [
            "<ipython-input-13-ce33b6d28851>:14: FutureWarning: The frame.append method is deprecated and will be removed from pandas in a future version. Use pandas.concat instead.\n",
            "  INS_data1 = INS_data1.append({\"D2016\": 2016, \"D2017\":2017 , \"D2018\": 2018, \"D2019\": 2019}, ignore_index=True)\n"
          ]
        }
      ]
    },
    {
      "cell_type": "code",
      "source": [
        "#print(INS_data1.head())"
      ],
      "metadata": {
        "colab": {
          "base_uri": "https://localhost:8080/"
        },
        "id": "W9UAnp809GwB",
        "outputId": "f2faeb29-754d-484d-e2d8-858ffc588e99"
      },
      "execution_count": null,
      "outputs": [
        {
          "output_type": "stream",
          "name": "stdout",
          "text": [
            "  D2016 D2017 D2018 D2019\n",
            "0  2016  2017  2018  2019\n"
          ]
        }
      ]
    },
    {
      "cell_type": "code",
      "source": [
        "read_html1 = pd.read_html(INS_url1)"
      ],
      "metadata": {
        "id": "Ub8Nj7xr9MMu"
      },
      "execution_count": 14,
      "outputs": []
    },
    {
      "cell_type": "code",
      "source": [
        "read_html1 = pd.read_html(str(soup1))"
      ],
      "metadata": {
        "id": "xIzJO67H9UNc"
      },
      "execution_count": 15,
      "outputs": []
    },
    {
      "cell_type": "code",
      "source": [
        "INS_df = pd.read_html(str(tables1[0]), flavor='bs4')[0]\n",
        "INS_df  = INS_df.dropna()\n",
        "\n",
        "INS_df"
      ],
      "metadata": {
        "colab": {
          "base_uri": "https://localhost:8080/",
          "height": 595
        },
        "id": "bjnm6MDn9dIA",
        "outputId": "a6f08d17-f4e3-475a-ae0d-9a0aafd60136"
      },
      "execution_count": 16,
      "outputs": [
        {
          "output_type": "execute_result",
          "data": {
            "text/plain": [
              "                                           Unnamed: 0      2011      2012  \\\n",
              "6                                  Secteur d'activité  602222.0  626102.0   \n",
              "7                  Agriculture, Sylviculture et Pêche    2563.0    2695.0   \n",
              "8                                           Industrie   70871.0   72961.0   \n",
              "9                                        Construction   27713.0   29730.0   \n",
              "10  Commerce, réparation d’automobiles et de motoc...  256298.0  264634.0   \n",
              "11                          Transports et Entreposage   93956.0   99253.0   \n",
              "12                        Hébergement et Restauration   28256.0   29698.0   \n",
              "13                       Information et communication   15284.0   15255.0   \n",
              "14              Activités financières et d'assurances    1616.0    1685.0   \n",
              "15                             Activités immobilières    3470.0    3670.0   \n",
              "16  Activités spécialisées, scientifiques et techn...   33885.0   36307.0   \n",
              "17  Activités de services administratifs et de sou...   13986.0   14656.0   \n",
              "18      Enseignement, Santé humaine et action sociale   19311.0   20667.0   \n",
              "19  Réparation d'ordinateurs et de biens personnel...    6103.0    6147.0   \n",
              "20                         Autres services personnels   21981.0   21731.0   \n",
              "21                                   Autres activités    6929.0    7013.0   \n",
              "\n",
              "        2013      2014      2015      2016      2017      2018      2019  \n",
              "6   654524.0  680241.0  711442.0  740054.0  771032.0  735043.0  782115.0  \n",
              "7     2915.0    3134.0    3346.0    3586.0    4098.0    4634.0    5310.0  \n",
              "8    76365.0   79250.0   82295.0   85077.0   88173.0   84283.0   89190.0  \n",
              "9    32458.0   34771.0   37393.0   39812.0   41880.0   41038.0   43077.0  \n",
              "10  275948.0  285959.0  299959.0  311887.0  324036.0  343951.0  364727.0  \n",
              "11  101590.0  103690.0  105773.0  107753.0  110211.0  103025.0  107360.0  \n",
              "12   31493.0   33503.0   35761.0   38031.0   40778.0   40481.0   43832.0  \n",
              "13   15482.0   15492.0   15661.0   15796.0   16077.0   14623.0   15684.0  \n",
              "14    1754.0    1825.0    1901.0    1940.0    2012.0    2023.0    2200.0  \n",
              "15    3959.0    4207.0    4465.0    4715.0    4988.0    5003.0    5332.0  \n",
              "16   39069.0   41364.0   43752.0   46180.0   48769.0   48799.0   52816.0  \n",
              "17   15547.0   16453.0   17525.0   18662.0   19999.0   19670.0   21861.0  \n",
              "18   22448.0   24275.0   25983.0   27811.0   29670.0   31119.0   33996.0  \n",
              "19    6254.0    6441.0    6663.0    6781.0    7009.0    6470.0    6717.0  \n",
              "20   21903.0   22149.0   22664.0   23095.0   23791.0   21515.0   22937.0  \n",
              "21    7338.0    7728.0    8301.0    8928.0    9541.0    9447.0   10153.0  "
            ],
            "text/html": [
              "\n",
              "  <div id=\"df-3d56b3c7-71bd-4611-b00e-b0a54638d8ea\">\n",
              "    <div class=\"colab-df-container\">\n",
              "      <div>\n",
              "<style scoped>\n",
              "    .dataframe tbody tr th:only-of-type {\n",
              "        vertical-align: middle;\n",
              "    }\n",
              "\n",
              "    .dataframe tbody tr th {\n",
              "        vertical-align: top;\n",
              "    }\n",
              "\n",
              "    .dataframe thead th {\n",
              "        text-align: right;\n",
              "    }\n",
              "</style>\n",
              "<table border=\"1\" class=\"dataframe\">\n",
              "  <thead>\n",
              "    <tr style=\"text-align: right;\">\n",
              "      <th></th>\n",
              "      <th>Unnamed: 0</th>\n",
              "      <th>2011</th>\n",
              "      <th>2012</th>\n",
              "      <th>2013</th>\n",
              "      <th>2014</th>\n",
              "      <th>2015</th>\n",
              "      <th>2016</th>\n",
              "      <th>2017</th>\n",
              "      <th>2018</th>\n",
              "      <th>2019</th>\n",
              "    </tr>\n",
              "  </thead>\n",
              "  <tbody>\n",
              "    <tr>\n",
              "      <th>6</th>\n",
              "      <td>Secteur d'activité</td>\n",
              "      <td>602222.0</td>\n",
              "      <td>626102.0</td>\n",
              "      <td>654524.0</td>\n",
              "      <td>680241.0</td>\n",
              "      <td>711442.0</td>\n",
              "      <td>740054.0</td>\n",
              "      <td>771032.0</td>\n",
              "      <td>735043.0</td>\n",
              "      <td>782115.0</td>\n",
              "    </tr>\n",
              "    <tr>\n",
              "      <th>7</th>\n",
              "      <td>Agriculture, Sylviculture et Pêche</td>\n",
              "      <td>2563.0</td>\n",
              "      <td>2695.0</td>\n",
              "      <td>2915.0</td>\n",
              "      <td>3134.0</td>\n",
              "      <td>3346.0</td>\n",
              "      <td>3586.0</td>\n",
              "      <td>4098.0</td>\n",
              "      <td>4634.0</td>\n",
              "      <td>5310.0</td>\n",
              "    </tr>\n",
              "    <tr>\n",
              "      <th>8</th>\n",
              "      <td>Industrie</td>\n",
              "      <td>70871.0</td>\n",
              "      <td>72961.0</td>\n",
              "      <td>76365.0</td>\n",
              "      <td>79250.0</td>\n",
              "      <td>82295.0</td>\n",
              "      <td>85077.0</td>\n",
              "      <td>88173.0</td>\n",
              "      <td>84283.0</td>\n",
              "      <td>89190.0</td>\n",
              "    </tr>\n",
              "    <tr>\n",
              "      <th>9</th>\n",
              "      <td>Construction</td>\n",
              "      <td>27713.0</td>\n",
              "      <td>29730.0</td>\n",
              "      <td>32458.0</td>\n",
              "      <td>34771.0</td>\n",
              "      <td>37393.0</td>\n",
              "      <td>39812.0</td>\n",
              "      <td>41880.0</td>\n",
              "      <td>41038.0</td>\n",
              "      <td>43077.0</td>\n",
              "    </tr>\n",
              "    <tr>\n",
              "      <th>10</th>\n",
              "      <td>Commerce, réparation d’automobiles et de motoc...</td>\n",
              "      <td>256298.0</td>\n",
              "      <td>264634.0</td>\n",
              "      <td>275948.0</td>\n",
              "      <td>285959.0</td>\n",
              "      <td>299959.0</td>\n",
              "      <td>311887.0</td>\n",
              "      <td>324036.0</td>\n",
              "      <td>343951.0</td>\n",
              "      <td>364727.0</td>\n",
              "    </tr>\n",
              "    <tr>\n",
              "      <th>11</th>\n",
              "      <td>Transports et Entreposage</td>\n",
              "      <td>93956.0</td>\n",
              "      <td>99253.0</td>\n",
              "      <td>101590.0</td>\n",
              "      <td>103690.0</td>\n",
              "      <td>105773.0</td>\n",
              "      <td>107753.0</td>\n",
              "      <td>110211.0</td>\n",
              "      <td>103025.0</td>\n",
              "      <td>107360.0</td>\n",
              "    </tr>\n",
              "    <tr>\n",
              "      <th>12</th>\n",
              "      <td>Hébergement et Restauration</td>\n",
              "      <td>28256.0</td>\n",
              "      <td>29698.0</td>\n",
              "      <td>31493.0</td>\n",
              "      <td>33503.0</td>\n",
              "      <td>35761.0</td>\n",
              "      <td>38031.0</td>\n",
              "      <td>40778.0</td>\n",
              "      <td>40481.0</td>\n",
              "      <td>43832.0</td>\n",
              "    </tr>\n",
              "    <tr>\n",
              "      <th>13</th>\n",
              "      <td>Information et communication</td>\n",
              "      <td>15284.0</td>\n",
              "      <td>15255.0</td>\n",
              "      <td>15482.0</td>\n",
              "      <td>15492.0</td>\n",
              "      <td>15661.0</td>\n",
              "      <td>15796.0</td>\n",
              "      <td>16077.0</td>\n",
              "      <td>14623.0</td>\n",
              "      <td>15684.0</td>\n",
              "    </tr>\n",
              "    <tr>\n",
              "      <th>14</th>\n",
              "      <td>Activités financières et d'assurances</td>\n",
              "      <td>1616.0</td>\n",
              "      <td>1685.0</td>\n",
              "      <td>1754.0</td>\n",
              "      <td>1825.0</td>\n",
              "      <td>1901.0</td>\n",
              "      <td>1940.0</td>\n",
              "      <td>2012.0</td>\n",
              "      <td>2023.0</td>\n",
              "      <td>2200.0</td>\n",
              "    </tr>\n",
              "    <tr>\n",
              "      <th>15</th>\n",
              "      <td>Activités immobilières</td>\n",
              "      <td>3470.0</td>\n",
              "      <td>3670.0</td>\n",
              "      <td>3959.0</td>\n",
              "      <td>4207.0</td>\n",
              "      <td>4465.0</td>\n",
              "      <td>4715.0</td>\n",
              "      <td>4988.0</td>\n",
              "      <td>5003.0</td>\n",
              "      <td>5332.0</td>\n",
              "    </tr>\n",
              "    <tr>\n",
              "      <th>16</th>\n",
              "      <td>Activités spécialisées, scientifiques et techn...</td>\n",
              "      <td>33885.0</td>\n",
              "      <td>36307.0</td>\n",
              "      <td>39069.0</td>\n",
              "      <td>41364.0</td>\n",
              "      <td>43752.0</td>\n",
              "      <td>46180.0</td>\n",
              "      <td>48769.0</td>\n",
              "      <td>48799.0</td>\n",
              "      <td>52816.0</td>\n",
              "    </tr>\n",
              "    <tr>\n",
              "      <th>17</th>\n",
              "      <td>Activités de services administratifs et de sou...</td>\n",
              "      <td>13986.0</td>\n",
              "      <td>14656.0</td>\n",
              "      <td>15547.0</td>\n",
              "      <td>16453.0</td>\n",
              "      <td>17525.0</td>\n",
              "      <td>18662.0</td>\n",
              "      <td>19999.0</td>\n",
              "      <td>19670.0</td>\n",
              "      <td>21861.0</td>\n",
              "    </tr>\n",
              "    <tr>\n",
              "      <th>18</th>\n",
              "      <td>Enseignement, Santé humaine et action sociale</td>\n",
              "      <td>19311.0</td>\n",
              "      <td>20667.0</td>\n",
              "      <td>22448.0</td>\n",
              "      <td>24275.0</td>\n",
              "      <td>25983.0</td>\n",
              "      <td>27811.0</td>\n",
              "      <td>29670.0</td>\n",
              "      <td>31119.0</td>\n",
              "      <td>33996.0</td>\n",
              "    </tr>\n",
              "    <tr>\n",
              "      <th>19</th>\n",
              "      <td>Réparation d'ordinateurs et de biens personnel...</td>\n",
              "      <td>6103.0</td>\n",
              "      <td>6147.0</td>\n",
              "      <td>6254.0</td>\n",
              "      <td>6441.0</td>\n",
              "      <td>6663.0</td>\n",
              "      <td>6781.0</td>\n",
              "      <td>7009.0</td>\n",
              "      <td>6470.0</td>\n",
              "      <td>6717.0</td>\n",
              "    </tr>\n",
              "    <tr>\n",
              "      <th>20</th>\n",
              "      <td>Autres services personnels</td>\n",
              "      <td>21981.0</td>\n",
              "      <td>21731.0</td>\n",
              "      <td>21903.0</td>\n",
              "      <td>22149.0</td>\n",
              "      <td>22664.0</td>\n",
              "      <td>23095.0</td>\n",
              "      <td>23791.0</td>\n",
              "      <td>21515.0</td>\n",
              "      <td>22937.0</td>\n",
              "    </tr>\n",
              "    <tr>\n",
              "      <th>21</th>\n",
              "      <td>Autres activités</td>\n",
              "      <td>6929.0</td>\n",
              "      <td>7013.0</td>\n",
              "      <td>7338.0</td>\n",
              "      <td>7728.0</td>\n",
              "      <td>8301.0</td>\n",
              "      <td>8928.0</td>\n",
              "      <td>9541.0</td>\n",
              "      <td>9447.0</td>\n",
              "      <td>10153.0</td>\n",
              "    </tr>\n",
              "  </tbody>\n",
              "</table>\n",
              "</div>\n",
              "      <button class=\"colab-df-convert\" onclick=\"convertToInteractive('df-3d56b3c7-71bd-4611-b00e-b0a54638d8ea')\"\n",
              "              title=\"Convert this dataframe to an interactive table.\"\n",
              "              style=\"display:none;\">\n",
              "        \n",
              "  <svg xmlns=\"http://www.w3.org/2000/svg\" height=\"24px\"viewBox=\"0 0 24 24\"\n",
              "       width=\"24px\">\n",
              "    <path d=\"M0 0h24v24H0V0z\" fill=\"none\"/>\n",
              "    <path d=\"M18.56 5.44l.94 2.06.94-2.06 2.06-.94-2.06-.94-.94-2.06-.94 2.06-2.06.94zm-11 1L8.5 8.5l.94-2.06 2.06-.94-2.06-.94L8.5 2.5l-.94 2.06-2.06.94zm10 10l.94 2.06.94-2.06 2.06-.94-2.06-.94-.94-2.06-.94 2.06-2.06.94z\"/><path d=\"M17.41 7.96l-1.37-1.37c-.4-.4-.92-.59-1.43-.59-.52 0-1.04.2-1.43.59L10.3 9.45l-7.72 7.72c-.78.78-.78 2.05 0 2.83L4 21.41c.39.39.9.59 1.41.59.51 0 1.02-.2 1.41-.59l7.78-7.78 2.81-2.81c.8-.78.8-2.07 0-2.86zM5.41 20L4 18.59l7.72-7.72 1.47 1.35L5.41 20z\"/>\n",
              "  </svg>\n",
              "      </button>\n",
              "      \n",
              "  <style>\n",
              "    .colab-df-container {\n",
              "      display:flex;\n",
              "      flex-wrap:wrap;\n",
              "      gap: 12px;\n",
              "    }\n",
              "\n",
              "    .colab-df-convert {\n",
              "      background-color: #E8F0FE;\n",
              "      border: none;\n",
              "      border-radius: 50%;\n",
              "      cursor: pointer;\n",
              "      display: none;\n",
              "      fill: #1967D2;\n",
              "      height: 32px;\n",
              "      padding: 0 0 0 0;\n",
              "      width: 32px;\n",
              "    }\n",
              "\n",
              "    .colab-df-convert:hover {\n",
              "      background-color: #E2EBFA;\n",
              "      box-shadow: 0px 1px 2px rgba(60, 64, 67, 0.3), 0px 1px 3px 1px rgba(60, 64, 67, 0.15);\n",
              "      fill: #174EA6;\n",
              "    }\n",
              "\n",
              "    [theme=dark] .colab-df-convert {\n",
              "      background-color: #3B4455;\n",
              "      fill: #D2E3FC;\n",
              "    }\n",
              "\n",
              "    [theme=dark] .colab-df-convert:hover {\n",
              "      background-color: #434B5C;\n",
              "      box-shadow: 0px 1px 3px 1px rgba(0, 0, 0, 0.15);\n",
              "      filter: drop-shadow(0px 1px 2px rgba(0, 0, 0, 0.3));\n",
              "      fill: #FFFFFF;\n",
              "    }\n",
              "  </style>\n",
              "\n",
              "      <script>\n",
              "        const buttonEl =\n",
              "          document.querySelector('#df-3d56b3c7-71bd-4611-b00e-b0a54638d8ea button.colab-df-convert');\n",
              "        buttonEl.style.display =\n",
              "          google.colab.kernel.accessAllowed ? 'block' : 'none';\n",
              "\n",
              "        async function convertToInteractive(key) {\n",
              "          const element = document.querySelector('#df-3d56b3c7-71bd-4611-b00e-b0a54638d8ea');\n",
              "          const dataTable =\n",
              "            await google.colab.kernel.invokeFunction('convertToInteractive',\n",
              "                                                     [key], {});\n",
              "          if (!dataTable) return;\n",
              "\n",
              "          const docLinkHtml = 'Like what you see? Visit the ' +\n",
              "            '<a target=\"_blank\" href=https://colab.research.google.com/notebooks/data_table.ipynb>data table notebook</a>'\n",
              "            + ' to learn more about interactive tables.';\n",
              "          element.innerHTML = '';\n",
              "          dataTable['output_type'] = 'display_data';\n",
              "          await google.colab.output.renderOutput(dataTable, element);\n",
              "          const docLink = document.createElement('div');\n",
              "          docLink.innerHTML = docLinkHtml;\n",
              "          element.appendChild(docLink);\n",
              "        }\n",
              "      </script>\n",
              "    </div>\n",
              "  </div>\n",
              "  "
            ]
          },
          "metadata": {},
          "execution_count": 16
        }
      ]
    },
    {
      "cell_type": "markdown",
      "source": [
        "### **c.unemployment rate in Tunisia (2018-2020)**"
      ],
      "metadata": {
        "id": "5z2w03RRsFR1"
      }
    },
    {
      "cell_type": "code",
      "source": [
        "INS_url2 = \"http://www.ins.tn/statistiques/153\"\n",
        "\n",
        "INS_data2  = requests.get(INS_url2).text"
      ],
      "metadata": {
        "id": "N-Z5T9QEc03k"
      },
      "execution_count": 18,
      "outputs": []
    },
    {
      "cell_type": "code",
      "source": [
        "soup2 = BeautifulSoup(INS_data2, 'html5lib')\n",
        "tables2 = soup2.find_all('table')\n",
        "#print(tables2[0].prettify())"
      ],
      "metadata": {
        "id": "2IiLlV9Lc-TB"
      },
      "execution_count": 19,
      "outputs": []
    },
    {
      "cell_type": "code",
      "source": [
        "INS_data2 = pd.DataFrame(columns=[\"D2018_4\", \"D2019_1\", \"D2019_2\", \"D2019_3\", \"D2019_4\", \"D2020_1\", \"D2020_2\", \"D2020_3\"])\n",
        "\n",
        "# First we isolate the body of the table which contains all the information\n",
        "# Then we loop through each row and find all the column values for each row\n",
        "for row in tables2[0].thead.find_all(\"tr\"):\n",
        "    col = row.find_all(\"td\")\n",
        "    if (col != []):\n",
        "      D2018_4 = col[0].text.strip()\n",
        "      D2019_1 = col[1].text.strip()\n",
        "      D2019_2 = col[2].text.strip()\n",
        "      D2019_3 = col[3].text.strip()\n",
        "      D2019_4 = col[4].text.strip()\n",
        "      D2020_1 = col[5].text.strip()\n",
        "      D2020_2 = col[6].text.strip()\n",
        "      D2020_3 = col[7].text.strip()\n",
        "    \n",
        "    # Finally we append the data of each row to the table\n",
        "    INS_data2 = INS_data2.append({\"D2018_4\": \"Quatrième-trimestre 2018\", \"D2019_1\": \"Première-trimestre 2019\" , \"D2019_2\": \"Deuxième-trimestre 2019\", \"D2019_3\": \"Troisième-trimestre 2019\", \"D2019_4\": \"Quatrième-trimestre 2019\", \"D2020_1\": \"Première-trimestre 2020\", \"D2020_2\": \"Deuxième-trimestre 2020\", \"D2020_3\": \"Troisième-trimestre 2020\"}, ignore_index=True)    \n"
      ],
      "metadata": {
        "colab": {
          "base_uri": "https://localhost:8080/"
        },
        "id": "eDm2Jyx3dT9d",
        "outputId": "de2f26c9-d406-4107-fc70-c7b83c23554e"
      },
      "execution_count": 20,
      "outputs": [
        {
          "output_type": "stream",
          "name": "stderr",
          "text": [
            "<ipython-input-20-a01091df1b0b>:18: FutureWarning: The frame.append method is deprecated and will be removed from pandas in a future version. Use pandas.concat instead.\n",
            "  INS_data2 = INS_data2.append({\"D2018_4\": \"Quatrième-trimestre 2018\", \"D2019_1\": \"Première-trimestre 2019\" , \"D2019_2\": \"Deuxième-trimestre 2019\", \"D2019_3\": \"Troisième-trimestre 2019\", \"D2019_4\": \"Quatrième-trimestre 2019\", \"D2020_1\": \"Première-trimestre 2020\", \"D2020_2\": \"Deuxième-trimestre 2020\", \"D2020_3\": \"Troisième-trimestre 2020\"}, ignore_index=True)\n"
          ]
        }
      ]
    },
    {
      "cell_type": "code",
      "source": [
        "#print(INS_data2.head())"
      ],
      "metadata": {
        "id": "F59nxQgtfzNW"
      },
      "execution_count": null,
      "outputs": []
    },
    {
      "cell_type": "code",
      "source": [
        "read_html2 = pd.read_html(INS_url2)\n",
        "read_html2 = pd.read_html(str(soup2))\n",
        "INS_df2 = pd.read_html(str(tables2[0]), flavor='bs4')[0]\n",
        "INS_df2  = INS_df2.dropna()\n",
        "\n",
        "INS_df2"
      ],
      "metadata": {
        "colab": {
          "base_uri": "https://localhost:8080/",
          "height": 274
        },
        "id": "aNLGCBTUgB6_",
        "outputId": "41efe447-824c-40d7-c21e-99543c34daff"
      },
      "execution_count": 21,
      "outputs": [
        {
          "output_type": "execute_result",
          "data": {
            "text/plain": [
              "                                     Unnamed: 0  quatrième-trimestre 2018  \\\n",
              "6  Evolution de la population active en chômage                     644.9   \n",
              "7                                      Masculin                     370.4   \n",
              "8                                       Féminin                     274.5   \n",
              "\n",
              "   première-trimestre 2019  deuxième-trimestre 2019  troisième-trimestre 2019  \\\n",
              "6                    637.7                    634.9                     628.3   \n",
              "7                    366.1                    365.4                     362.5   \n",
              "8                    271.6                    269.5                     265.8   \n",
              "\n",
              "   quatrième-trimestre 2019  première-trimestre 2020  deuxième-trimestre 2020  \\\n",
              "6                     623.9                    634.8                    746.4   \n",
              "7                     360.2                    366.0                    449.3   \n",
              "8                     263.7                    268.7                    297.1   \n",
              "\n",
              "   troisième-trimestre 2020  \n",
              "6                     676.6  \n",
              "7                     402.1  \n",
              "8                     274.5  "
            ],
            "text/html": [
              "\n",
              "  <div id=\"df-2d9095a6-e2d7-4e00-b0cc-0af8ba0442c2\">\n",
              "    <div class=\"colab-df-container\">\n",
              "      <div>\n",
              "<style scoped>\n",
              "    .dataframe tbody tr th:only-of-type {\n",
              "        vertical-align: middle;\n",
              "    }\n",
              "\n",
              "    .dataframe tbody tr th {\n",
              "        vertical-align: top;\n",
              "    }\n",
              "\n",
              "    .dataframe thead th {\n",
              "        text-align: right;\n",
              "    }\n",
              "</style>\n",
              "<table border=\"1\" class=\"dataframe\">\n",
              "  <thead>\n",
              "    <tr style=\"text-align: right;\">\n",
              "      <th></th>\n",
              "      <th>Unnamed: 0</th>\n",
              "      <th>quatrième-trimestre 2018</th>\n",
              "      <th>première-trimestre 2019</th>\n",
              "      <th>deuxième-trimestre 2019</th>\n",
              "      <th>troisième-trimestre 2019</th>\n",
              "      <th>quatrième-trimestre 2019</th>\n",
              "      <th>première-trimestre 2020</th>\n",
              "      <th>deuxième-trimestre 2020</th>\n",
              "      <th>troisième-trimestre 2020</th>\n",
              "    </tr>\n",
              "  </thead>\n",
              "  <tbody>\n",
              "    <tr>\n",
              "      <th>6</th>\n",
              "      <td>Evolution de la population active en chômage</td>\n",
              "      <td>644.9</td>\n",
              "      <td>637.7</td>\n",
              "      <td>634.9</td>\n",
              "      <td>628.3</td>\n",
              "      <td>623.9</td>\n",
              "      <td>634.8</td>\n",
              "      <td>746.4</td>\n",
              "      <td>676.6</td>\n",
              "    </tr>\n",
              "    <tr>\n",
              "      <th>7</th>\n",
              "      <td>Masculin</td>\n",
              "      <td>370.4</td>\n",
              "      <td>366.1</td>\n",
              "      <td>365.4</td>\n",
              "      <td>362.5</td>\n",
              "      <td>360.2</td>\n",
              "      <td>366.0</td>\n",
              "      <td>449.3</td>\n",
              "      <td>402.1</td>\n",
              "    </tr>\n",
              "    <tr>\n",
              "      <th>8</th>\n",
              "      <td>Féminin</td>\n",
              "      <td>274.5</td>\n",
              "      <td>271.6</td>\n",
              "      <td>269.5</td>\n",
              "      <td>265.8</td>\n",
              "      <td>263.7</td>\n",
              "      <td>268.7</td>\n",
              "      <td>297.1</td>\n",
              "      <td>274.5</td>\n",
              "    </tr>\n",
              "  </tbody>\n",
              "</table>\n",
              "</div>\n",
              "      <button class=\"colab-df-convert\" onclick=\"convertToInteractive('df-2d9095a6-e2d7-4e00-b0cc-0af8ba0442c2')\"\n",
              "              title=\"Convert this dataframe to an interactive table.\"\n",
              "              style=\"display:none;\">\n",
              "        \n",
              "  <svg xmlns=\"http://www.w3.org/2000/svg\" height=\"24px\"viewBox=\"0 0 24 24\"\n",
              "       width=\"24px\">\n",
              "    <path d=\"M0 0h24v24H0V0z\" fill=\"none\"/>\n",
              "    <path d=\"M18.56 5.44l.94 2.06.94-2.06 2.06-.94-2.06-.94-.94-2.06-.94 2.06-2.06.94zm-11 1L8.5 8.5l.94-2.06 2.06-.94-2.06-.94L8.5 2.5l-.94 2.06-2.06.94zm10 10l.94 2.06.94-2.06 2.06-.94-2.06-.94-.94-2.06-.94 2.06-2.06.94z\"/><path d=\"M17.41 7.96l-1.37-1.37c-.4-.4-.92-.59-1.43-.59-.52 0-1.04.2-1.43.59L10.3 9.45l-7.72 7.72c-.78.78-.78 2.05 0 2.83L4 21.41c.39.39.9.59 1.41.59.51 0 1.02-.2 1.41-.59l7.78-7.78 2.81-2.81c.8-.78.8-2.07 0-2.86zM5.41 20L4 18.59l7.72-7.72 1.47 1.35L5.41 20z\"/>\n",
              "  </svg>\n",
              "      </button>\n",
              "      \n",
              "  <style>\n",
              "    .colab-df-container {\n",
              "      display:flex;\n",
              "      flex-wrap:wrap;\n",
              "      gap: 12px;\n",
              "    }\n",
              "\n",
              "    .colab-df-convert {\n",
              "      background-color: #E8F0FE;\n",
              "      border: none;\n",
              "      border-radius: 50%;\n",
              "      cursor: pointer;\n",
              "      display: none;\n",
              "      fill: #1967D2;\n",
              "      height: 32px;\n",
              "      padding: 0 0 0 0;\n",
              "      width: 32px;\n",
              "    }\n",
              "\n",
              "    .colab-df-convert:hover {\n",
              "      background-color: #E2EBFA;\n",
              "      box-shadow: 0px 1px 2px rgba(60, 64, 67, 0.3), 0px 1px 3px 1px rgba(60, 64, 67, 0.15);\n",
              "      fill: #174EA6;\n",
              "    }\n",
              "\n",
              "    [theme=dark] .colab-df-convert {\n",
              "      background-color: #3B4455;\n",
              "      fill: #D2E3FC;\n",
              "    }\n",
              "\n",
              "    [theme=dark] .colab-df-convert:hover {\n",
              "      background-color: #434B5C;\n",
              "      box-shadow: 0px 1px 3px 1px rgba(0, 0, 0, 0.15);\n",
              "      filter: drop-shadow(0px 1px 2px rgba(0, 0, 0, 0.3));\n",
              "      fill: #FFFFFF;\n",
              "    }\n",
              "  </style>\n",
              "\n",
              "      <script>\n",
              "        const buttonEl =\n",
              "          document.querySelector('#df-2d9095a6-e2d7-4e00-b0cc-0af8ba0442c2 button.colab-df-convert');\n",
              "        buttonEl.style.display =\n",
              "          google.colab.kernel.accessAllowed ? 'block' : 'none';\n",
              "\n",
              "        async function convertToInteractive(key) {\n",
              "          const element = document.querySelector('#df-2d9095a6-e2d7-4e00-b0cc-0af8ba0442c2');\n",
              "          const dataTable =\n",
              "            await google.colab.kernel.invokeFunction('convertToInteractive',\n",
              "                                                     [key], {});\n",
              "          if (!dataTable) return;\n",
              "\n",
              "          const docLinkHtml = 'Like what you see? Visit the ' +\n",
              "            '<a target=\"_blank\" href=https://colab.research.google.com/notebooks/data_table.ipynb>data table notebook</a>'\n",
              "            + ' to learn more about interactive tables.';\n",
              "          element.innerHTML = '';\n",
              "          dataTable['output_type'] = 'display_data';\n",
              "          await google.colab.output.renderOutput(dataTable, element);\n",
              "          const docLink = document.createElement('div');\n",
              "          docLink.innerHTML = docLinkHtml;\n",
              "          element.appendChild(docLink);\n",
              "        }\n",
              "      </script>\n",
              "    </div>\n",
              "  </div>\n",
              "  "
            ]
          },
          "metadata": {},
          "execution_count": 21
        }
      ]
    },
    {
      "cell_type": "markdown",
      "source": [
        "**d. Save my data in a file:**"
      ],
      "metadata": {
        "id": "-FM2Pyyn4tZe"
      }
    },
    {
      "cell_type": "code",
      "source": [
        "# Create a Pandas Excel writer using the openpyxl engine\n",
        "writer = pd.ExcelWriter('tables.xlsx', engine='openpyxl')\n",
        "\n",
        "# Write each table to a specific sheet in the Excel file\n",
        "PIB_df.to_excel(writer, sheet_name='GDP', index=False)\n",
        "INS_df.to_excel(writer, sheet_name='Private Sector', index=False)\n",
        "INS_df2.to_excel(writer, sheet_name='Unemployment', index=False)\n",
        "\n",
        "# Save the file\n",
        "writer.save()"
      ],
      "metadata": {
        "colab": {
          "base_uri": "https://localhost:8080/"
        },
        "id": "DzjZqJaB1i1v",
        "outputId": "7fa1c1bd-8ede-4847-e599-e29c3f560523"
      },
      "execution_count": 22,
      "outputs": [
        {
          "output_type": "stream",
          "name": "stderr",
          "text": [
            "<ipython-input-22-871353338a58>:10: FutureWarning: save is not part of the public API, usage can give unexpected results and will be removed in a future version\n",
            "  writer.save()\n"
          ]
        }
      ]
    },
    {
      "cell_type": "markdown",
      "source": [
        "# B. Data Visualization: "
      ],
      "metadata": {
        "id": "fwWrc42HtDT0"
      }
    },
    {
      "cell_type": "markdown",
      "source": [
        "This part provides a comprehensive analysis of Tunisia's economic situation, focusing on 5 main economic indicators: Gross Domestic Product (GDP), Inflation rate, Private sector performance, unemployment, and unemployment per gender. The data for our analysis is obtained through a sophisticated web scraping tool developed for the purpose of this analysis.\n",
        "This analysis tries to present a thorough view of Tunisia's current economic position, which may be useful for policymakers, investors, and scholars alike."
      ],
      "metadata": {
        "id": "D8PsZ9rb5PxA"
      }
    },
    {
      "cell_type": "code",
      "source": [
        "import matplotlib as mpl\n",
        "import matplotlib.pyplot as plt"
      ],
      "metadata": {
        "id": "r8qaDnyGBnbi"
      },
      "execution_count": null,
      "outputs": []
    },
    {
      "cell_type": "markdown",
      "source": [
        "###**1. GDP:** "
      ],
      "metadata": {
        "id": "KKOvhJh2uKC9"
      }
    },
    {
      "cell_type": "markdown",
      "source": [
        "Gross Domestic Product (GDP): GDP is a broad measure of total domestic output that reflects the country's economic health and level of life. It aids in understanding the size and direction of Tunisia's economy."
      ],
      "metadata": {
        "id": "Qo9JbPjF5ggX"
      }
    },
    {
      "cell_type": "code",
      "source": [
        "PIB = PIB_df.head(1)\n",
        "float(PIB['2021'])"
      ],
      "metadata": {
        "colab": {
          "base_uri": "https://localhost:8080/"
        },
        "id": "f_ifyQuD_UzB",
        "outputId": "1faf774a-e7ba-4875-bc3f-0b831a403df8"
      },
      "execution_count": 23,
      "outputs": [
        {
          "output_type": "execute_result",
          "data": {
            "text/plain": [
              "1248058.0"
            ]
          },
          "metadata": {},
          "execution_count": 23
        }
      ]
    },
    {
      "cell_type": "code",
      "source": [
        "fig,ax = plt.subplots()\n",
        "plt.title('PIB in tunisia (PIB in million TND)')\n",
        "plt.ylabel('PIB')\n",
        "plt.xlabel('Year')\n",
        "ax.xaxis.set_tick_params(labelsize=10)\n",
        "x= ['2016', '2017', '2018', '2019', '2020', '2021' ]\n",
        "y= [float(PIB['2016']), float(PIB['2017']), float(PIB['2018']), float(PIB['2019']), float(PIB['2020']), float(PIB['2021'])]\n",
        "ax.plot(x,y)\n",
        "ax.tick_params(axis='x', rotation=45)\n",
        "plt.ylim(907000, 1250000)\n",
        "\n",
        "plt.show() "
      ],
      "metadata": {
        "colab": {
          "base_uri": "https://localhost:8080/",
          "height": 493
        },
        "id": "0upIB4GxV0K0",
        "outputId": "cea27d44-456f-481b-ed22-ea7508dfa09c"
      },
      "execution_count": null,
      "outputs": [
        {
          "output_type": "display_data",
          "data": {
            "text/plain": [
              "<Figure size 640x480 with 1 Axes>"
            ],
            "image/png": "[encoded data removed]"
          },
          "metadata": {}
        }
      ]
    },
    {
      "cell_type": "markdown",
      "source": [
        "According to the data provided by the Central Bank of Tunisia (2016-2021), the Tunisian GDP has increased from 0.9 million TND  in 2016 to 1.25 million TND. We notice an interruption to the linear growth between 2019-2020 resulting in a negative growth of the GDP. This downturn is explained by the COVID-19 global pandemic that crippled the global economy including the Tunisian economy significantly.\n",
        "Standalone, the nominal GDP indicates growth in the Tunisian economy. However, this indicator must be analyzed in comparison to the total expenditure of the country in this specific period and also the inflation rate that reflects the real GDP which is the GDP adjusted to inflation."
      ],
      "metadata": {
        "id": "_eqiCJaw5sKw"
      }
    },
    {
      "cell_type": "markdown",
      "source": [
        "###**2. Inflation rates:**"
      ],
      "metadata": {
        "id": "Wm2sX7UTt6T7"
      }
    },
    {
      "cell_type": "markdown",
      "source": [
        "Inflation rate: it provides insight into the country's economic stability by demonstrating how prices are changing and influencing the population's purchasing power."
      ],
      "metadata": {
        "id": "8XxCy98r5vwb"
      }
    },
    {
      "cell_type": "code",
      "source": [
        "draw.text((40, 150), \"Inflation in Tunisia (Green) Compared to EU (Pink)\")\n",
        "inflation_image.show()"
      ],
      "metadata": {
        "colab": {
          "base_uri": "https://localhost:8080/",
          "height": 217
        },
        "id": "BwFVNxzjtR-3",
        "outputId": "61b3b01d-791b-4e29-e5c3-fe1327c70a1d"
      },
      "execution_count": null,
      "outputs": [
        {
          "output_type": "display_data",
          "data": {
            "text/plain": [
              "<PIL.PngImagePlugin.PngImageFile image mode=P size=930x200 at 0x7F577A9A1570>"
            ],
            "image/png": "[encoded data removed]"
          },
          "metadata": {}
        }
      ]
    },
    {
      "cell_type": "code",
      "source": [
        "print('According to Zawya website: \\n')\n",
        "print(\" \".join(description.split()[0:20])) \n",
        "print(\" \".join(description.split()[21:37]))\n",
        "print(\" \".join(description.split()[37:])) "
      ],
      "metadata": {
        "colab": {
          "base_uri": "https://localhost:8080/"
        },
        "id": "rD0AJZODtgpI",
        "outputId": "eb49a304-d7d5-41bc-fc7c-ff7258da3e17"
      },
      "execution_count": null,
      "outputs": [
        {
          "output_type": "stream",
          "name": "stdout",
          "text": [
            "According to Zawya website: \n",
            "\n",
            "Tunisia – Tunisia's inflation will accelerate from 8.3% in 2022 to 9.5% in 2023, mainly due to higher taxes and\n",
            "food and energy subsidies, according to a commentary published by Fitch Solutions Country Risks &amp; Industry\n",
            "Research and independent sources.\n"
          ]
        }
      ]
    },
    {
      "cell_type": "markdown",
      "source": [
        "In our analysis of the inflation rate, we compared the Tunisian inflation rate (Green) to the European Union (EU) inflation rate (Green). The importance of this comparison resides in the strong ties of the Tunisian economy with the EU in terms of the import and export of goods and the determination of their prices in the Tunisian markets. \n",
        "Historical data are provided by Données Mondiales and Zawya website over the period of 1984-2022. We can notice from the chart that Tunisian inflation has been almost always lower the EU level of inflation during the period 1984-2016 except for short periods of 1 or 2 years maximum with an average of 1.5% difference. However, after 2016, we notice huge increase in the Tunisian inflation and a relative decrease in the EU inflation creating a significant difference of 8%. This disparity reflects a downturn in the Tunisian economy in the past years as the inflation has increased which results in a decrease in the purchasing power that can lead to social and political unstability in the country. "
      ],
      "metadata": {
        "id": "h2sordsS55pO"
      }
    },
    {
      "cell_type": "markdown",
      "source": [
        "###**3.Private Sector Performance:**"
      ],
      "metadata": {
        "id": "UpVG8kjsuP-5"
      }
    },
    {
      "cell_type": "markdown",
      "source": [
        "Private sector performance: This metric represents how companies, particularly small and medium-sized firms in the different economic sectors, contribute to the economy, create jobs, and drive innovation.  "
      ],
      "metadata": {
        "id": "f3YHVrGh4_Fx"
      }
    },
    {
      "cell_type": "code",
      "source": [
        "Private_sector= INS_df.iloc[:,[0,9]]\n",
        "Private_sector = Private_sector.sort_values('2019', ascending=False)\n",
        "#Private_sector= Private_sector.transpose() \n",
        "x= Private_sector['Unnamed: 0']\n",
        "y= Private_sector['2019']"
      ],
      "metadata": {
        "id": "yoU3UqP0KTsg"
      },
      "execution_count": null,
      "outputs": []
    },
    {
      "cell_type": "code",
      "source": [
        "# Creating the bar chart\n",
        "colors = ['r', 'g', 'b', 'y']\n",
        "fig2,ax = plt.subplots()\n",
        "plt.bar(x, y, label=x, color=colors, alpha=0.3)\n",
        "\n",
        "# Adding labels to the chart\n",
        "plt.title(\"Private Sector in tunisia\")\n",
        "plt.xlabel(\"Sector\")\n",
        "plt.legend()\n",
        "plt.xticks([])\n",
        "plt.legend(loc='upper right', fontsize=5) \n",
        "\n",
        "# Displaying the chart\n",
        "plt.show()"
      ],
      "metadata": {
        "colab": {
          "base_uri": "https://localhost:8080/",
          "height": 448
        },
        "id": "-Lqwb7HrZ6Eu",
        "outputId": "f7df463f-cbe3-4cd0-f58e-2c218c9d739a"
      },
      "execution_count": null,
      "outputs": [
        {
          "output_type": "display_data",
          "data": {
            "text/plain": [
              "<Figure size 640x480 with 1 Axes>"
            ],
            "image/png": "[encoded data removed]"
          },
          "metadata": {}
        }
      ]
    },
    {
      "cell_type": "markdown",
      "source": [
        "Data for this metric is obtained from the Tunisian Statistics Institute (INS) reflecting the number of private companies per sector for the year 2019. From all sectors, we can notice that there are two dominant fields where private companies are concentrated: Services and Automotives (Reparations and retail) with numbers of almost 800,000 and 380,000 companies respectively.\n",
        "This dominance should shift the attention of Tunisian policymakers and investors to focus on these sectors and help them grow. However, the small numbers of companies in the other sectors presented on the graph reflect the negligence of such sectors and that they should be encouraged to help diversify the economic income sources and help the economy in terms of GDP."
      ],
      "metadata": {
        "id": "g7KcV-4E5-qF"
      }
    },
    {
      "cell_type": "markdown",
      "source": [
        "###**4.Unemploymenr Rate:** "
      ],
      "metadata": {
        "id": "I6D8HgFuuYTc"
      }
    },
    {
      "cell_type": "markdown",
      "source": [
        "**a.Unemployment:** it shows the proportion of the labor force that is unemployed and actively looking for work. High unemployment may signify an economic downturn, whilst low unemployment may suggest a thriving economy."
      ],
      "metadata": {
        "id": "cOrcQOVi6FY0"
      }
    },
    {
      "cell_type": "code",
      "source": [
        "chomage=INS_df2.head(1)\n",
        "chomage"
      ],
      "metadata": {
        "colab": {
          "base_uri": "https://localhost:8080/",
          "height": 212
        },
        "id": "R695zLAfhbur",
        "outputId": "8230cff4-9498-436e-908c-be1acc3c53ac"
      },
      "execution_count": null,
      "outputs": [
        {
          "output_type": "execute_result",
          "data": {
            "text/plain": [
              "                                     Unnamed: 0  quatrième-trimestre 2018  \\\n",
              "6  Evolution de la population active en chômage                     644.9   \n",
              "\n",
              "   première-trimestre 2019  deuxième-trimestre 2019  troisième-trimestre 2019  \\\n",
              "6                    637.7                    634.9                     628.3   \n",
              "\n",
              "   quatrième-trimestre 2019  première-trimestre 2020  deuxième-trimestre 2020  \\\n",
              "6                     623.9                    634.8                    746.4   \n",
              "\n",
              "   troisième-trimestre 2020  \n",
              "6                     676.6  "
            ],
            "text/html": [
              "\n",
              "  <div id=\"df-6aa2db91-5e89-4a5a-8a5c-10dbda5cb55a\">\n",
              "    <div class=\"colab-df-container\">\n",
              "      <div>\n",
              "<style scoped>\n",
              "    .dataframe tbody tr th:only-of-type {\n",
              "        vertical-align: middle;\n",
              "    }\n",
              "\n",
              "    .dataframe tbody tr th {\n",
              "        vertical-align: top;\n",
              "    }\n",
              "\n",
              "    .dataframe thead th {\n",
              "        text-align: right;\n",
              "    }\n",
              "</style>\n",
              "<table border=\"1\" class=\"dataframe\">\n",
              "  <thead>\n",
              "    <tr style=\"text-align: right;\">\n",
              "      <th></th>\n",
              "      <th>Unnamed: 0</th>\n",
              "      <th>quatrième-trimestre 2018</th>\n",
              "      <th>première-trimestre 2019</th>\n",
              "      <th>deuxième-trimestre 2019</th>\n",
              "      <th>troisième-trimestre 2019</th>\n",
              "      <th>quatrième-trimestre 2019</th>\n",
              "      <th>première-trimestre 2020</th>\n",
              "      <th>deuxième-trimestre 2020</th>\n",
              "      <th>troisième-trimestre 2020</th>\n",
              "    </tr>\n",
              "  </thead>\n",
              "  <tbody>\n",
              "    <tr>\n",
              "      <th>6</th>\n",
              "      <td>Evolution de la population active en chômage</td>\n",
              "      <td>644.9</td>\n",
              "      <td>637.7</td>\n",
              "      <td>634.9</td>\n",
              "      <td>628.3</td>\n",
              "      <td>623.9</td>\n",
              "      <td>634.8</td>\n",
              "      <td>746.4</td>\n",
              "      <td>676.6</td>\n",
              "    </tr>\n",
              "  </tbody>\n",
              "</table>\n",
              "</div>\n",
              "      <button class=\"colab-df-convert\" onclick=\"convertToInteractive('df-6aa2db91-5e89-4a5a-8a5c-10dbda5cb55a')\"\n",
              "              title=\"Convert this dataframe to an interactive table.\"\n",
              "              style=\"display:none;\">\n",
              "        \n",
              "  <svg xmlns=\"http://www.w3.org/2000/svg\" height=\"24px\"viewBox=\"0 0 24 24\"\n",
              "       width=\"24px\">\n",
              "    <path d=\"M0 0h24v24H0V0z\" fill=\"none\"/>\n",
              "    <path d=\"M18.56 5.44l.94 2.06.94-2.06 2.06-.94-2.06-.94-.94-2.06-.94 2.06-2.06.94zm-11 1L8.5 8.5l.94-2.06 2.06-.94-2.06-.94L8.5 2.5l-.94 2.06-2.06.94zm10 10l.94 2.06.94-2.06 2.06-.94-2.06-.94-.94-2.06-.94 2.06-2.06.94z\"/><path d=\"M17.41 7.96l-1.37-1.37c-.4-.4-.92-.59-1.43-.59-.52 0-1.04.2-1.43.59L10.3 9.45l-7.72 7.72c-.78.78-.78 2.05 0 2.83L4 21.41c.39.39.9.59 1.41.59.51 0 1.02-.2 1.41-.59l7.78-7.78 2.81-2.81c.8-.78.8-2.07 0-2.86zM5.41 20L4 18.59l7.72-7.72 1.47 1.35L5.41 20z\"/>\n",
              "  </svg>\n",
              "      </button>\n",
              "      \n",
              "  <style>\n",
              "    .colab-df-container {\n",
              "      display:flex;\n",
              "      flex-wrap:wrap;\n",
              "      gap: 12px;\n",
              "    }\n",
              "\n",
              "    .colab-df-convert {\n",
              "      background-color: #E8F0FE;\n",
              "      border: none;\n",
              "      border-radius: 50%;\n",
              "      cursor: pointer;\n",
              "      display: none;\n",
              "      fill: #1967D2;\n",
              "      height: 32px;\n",
              "      padding: 0 0 0 0;\n",
              "      width: 32px;\n",
              "    }\n",
              "\n",
              "    .colab-df-convert:hover {\n",
              "      background-color: #E2EBFA;\n",
              "      box-shadow: 0px 1px 2px rgba(60, 64, 67, 0.3), 0px 1px 3px 1px rgba(60, 64, 67, 0.15);\n",
              "      fill: #174EA6;\n",
              "    }\n",
              "\n",
              "    [theme=dark] .colab-df-convert {\n",
              "      background-color: #3B4455;\n",
              "      fill: #D2E3FC;\n",
              "    }\n",
              "\n",
              "    [theme=dark] .colab-df-convert:hover {\n",
              "      background-color: #434B5C;\n",
              "      box-shadow: 0px 1px 3px 1px rgba(0, 0, 0, 0.15);\n",
              "      filter: drop-shadow(0px 1px 2px rgba(0, 0, 0, 0.3));\n",
              "      fill: #FFFFFF;\n",
              "    }\n",
              "  </style>\n",
              "\n",
              "      <script>\n",
              "        const buttonEl =\n",
              "          document.querySelector('#df-6aa2db91-5e89-4a5a-8a5c-10dbda5cb55a button.colab-df-convert');\n",
              "        buttonEl.style.display =\n",
              "          google.colab.kernel.accessAllowed ? 'block' : 'none';\n",
              "\n",
              "        async function convertToInteractive(key) {\n",
              "          const element = document.querySelector('#df-6aa2db91-5e89-4a5a-8a5c-10dbda5cb55a');\n",
              "          const dataTable =\n",
              "            await google.colab.kernel.invokeFunction('convertToInteractive',\n",
              "                                                     [key], {});\n",
              "          if (!dataTable) return;\n",
              "\n",
              "          const docLinkHtml = 'Like what you see? Visit the ' +\n",
              "            '<a target=\"_blank\" href=https://colab.research.google.com/notebooks/data_table.ipynb>data table notebook</a>'\n",
              "            + ' to learn more about interactive tables.';\n",
              "          element.innerHTML = '';\n",
              "          dataTable['output_type'] = 'display_data';\n",
              "          await google.colab.output.renderOutput(dataTable, element);\n",
              "          const docLink = document.createElement('div');\n",
              "          docLink.innerHTML = docLinkHtml;\n",
              "          element.appendChild(docLink);\n",
              "        }\n",
              "      </script>\n",
              "    </div>\n",
              "  </div>\n",
              "  "
            ]
          },
          "metadata": {},
          "execution_count": 44
        }
      ]
    },
    {
      "cell_type": "code",
      "source": [
        "plt.figure(figsize=(8, 6))\n",
        "chomage.plot(kind='bar', figsize=(10, 6), width=3 ,align='center', alpha=0.5)\n",
        "\n",
        "plt.xticks([])\n",
        "plt.ylabel('Unemployement rate') # add y-label to the plot\n",
        "plt.title('Quarter Unemployemt rate in Tunisia from 2018 to 2020') # add title to the plot\n",
        "plt.ylim(600, 750)\n",
        "plt.show()\n",
        "\n",
        "plt.savefig('plot.png', dpi=300, bbox_inches='tight')"
      ],
      "metadata": {
        "colab": {
          "base_uri": "https://localhost:8080/",
          "height": 565
        },
        "id": "qx7sjtX7hsjd",
        "outputId": "be2fe339-97f6-4623-f8db-e6c477e59b4b"
      },
      "execution_count": null,
      "outputs": [
        {
          "output_type": "display_data",
          "data": {
            "text/plain": [
              "<Figure size 800x600 with 0 Axes>"
            ]
          },
          "metadata": {}
        },
        {
          "output_type": "display_data",
          "data": {
            "text/plain": [
              "<Figure size 1000x600 with 1 Axes>"
            ],
            "image/png": "[encoded data removed]"
          },
          "metadata": {}
        },
        {
          "output_type": "display_data",
          "data": {
            "text/plain": [
              "<Figure size 640x480 with 0 Axes>"
            ]
          },
          "metadata": {}
        }
      ]
    },
    {
      "cell_type": "markdown",
      "source": [
        "According to the data provided by the Tunisian Statistics Institute (INS) from 2018 to 2020, the unemployment rate has raised over these years. We can notice firstly a downward slope from the end of 2018 towards the end of 2019. However, we notice a slight increase in the first quarter of 2020 followed by a skyrocketing rate in the subsequent quarter. This is explained by the COVID-19 global pandemic where many people were laid off from their jobs due to the global economic crisis that affected Tunisia. Toward the third quarter of 2020, the rate decreased as the pandemic loosened up yet it stayed higher than previous years."
      ],
      "metadata": {
        "id": "rcft_Eix6Otw"
      }
    },
    {
      "cell_type": "markdown",
      "source": [
        "**b.Unemployment by Gender:** Unemployment by Gender gives information on Tunisia's job market's equity and inclusion. It is a critical metric for assessing gender differences in the labor market and comprehending the social elements of unemployment."
      ],
      "metadata": {
        "id": "nCk8ld5R6K4Z"
      }
    },
    {
      "cell_type": "code",
      "source": [
        "chomage_sex= INS_df2.iloc[[1,2], [0,8]]\n",
        "chomage_sex"
      ],
      "metadata": {
        "colab": {
          "base_uri": "https://localhost:8080/",
          "height": 112
        },
        "id": "YSCBqRqdo4bm",
        "outputId": "5d240339-ec8c-4ce1-e1de-306aa847644a"
      },
      "execution_count": null,
      "outputs": [
        {
          "output_type": "execute_result",
          "data": {
            "text/plain": [
              "  Unnamed: 0  troisième-trimestre 2020\n",
              "7   Masculin                     402.1\n",
              "8    Féminin                     274.5"
            ],
            "text/html": [
              "\n",
              "  <div id=\"df-9fb5c530-d7ac-4bb8-8f21-9bcc8dbbe885\">\n",
              "    <div class=\"colab-df-container\">\n",
              "      <div>\n",
              "<style scoped>\n",
              "    .dataframe tbody tr th:only-of-type {\n",
              "        vertical-align: middle;\n",
              "    }\n",
              "\n",
              "    .dataframe tbody tr th {\n",
              "        vertical-align: top;\n",
              "    }\n",
              "\n",
              "    .dataframe thead th {\n",
              "        text-align: right;\n",
              "    }\n",
              "</style>\n",
              "<table border=\"1\" class=\"dataframe\">\n",
              "  <thead>\n",
              "    <tr style=\"text-align: right;\">\n",
              "      <th></th>\n",
              "      <th>Unnamed: 0</th>\n",
              "      <th>troisième-trimestre 2020</th>\n",
              "    </tr>\n",
              "  </thead>\n",
              "  <tbody>\n",
              "    <tr>\n",
              "      <th>7</th>\n",
              "      <td>Masculin</td>\n",
              "      <td>402.1</td>\n",
              "    </tr>\n",
              "    <tr>\n",
              "      <th>8</th>\n",
              "      <td>Féminin</td>\n",
              "      <td>274.5</td>\n",
              "    </tr>\n",
              "  </tbody>\n",
              "</table>\n",
              "</div>\n",
              "      <button class=\"colab-df-convert\" onclick=\"convertToInteractive('df-9fb5c530-d7ac-4bb8-8f21-9bcc8dbbe885')\"\n",
              "              title=\"Convert this dataframe to an interactive table.\"\n",
              "              style=\"display:none;\">\n",
              "        \n",
              "  <svg xmlns=\"http://www.w3.org/2000/svg\" height=\"24px\"viewBox=\"0 0 24 24\"\n",
              "       width=\"24px\">\n",
              "    <path d=\"M0 0h24v24H0V0z\" fill=\"none\"/>\n",
              "    <path d=\"M18.56 5.44l.94 2.06.94-2.06 2.06-.94-2.06-.94-.94-2.06-.94 2.06-2.06.94zm-11 1L8.5 8.5l.94-2.06 2.06-.94-2.06-.94L8.5 2.5l-.94 2.06-2.06.94zm10 10l.94 2.06.94-2.06 2.06-.94-2.06-.94-.94-2.06-.94 2.06-2.06.94z\"/><path d=\"M17.41 7.96l-1.37-1.37c-.4-.4-.92-.59-1.43-.59-.52 0-1.04.2-1.43.59L10.3 9.45l-7.72 7.72c-.78.78-.78 2.05 0 2.83L4 21.41c.39.39.9.59 1.41.59.51 0 1.02-.2 1.41-.59l7.78-7.78 2.81-2.81c.8-.78.8-2.07 0-2.86zM5.41 20L4 18.59l7.72-7.72 1.47 1.35L5.41 20z\"/>\n",
              "  </svg>\n",
              "      </button>\n",
              "      \n",
              "  <style>\n",
              "    .colab-df-container {\n",
              "      display:flex;\n",
              "      flex-wrap:wrap;\n",
              "      gap: 12px;\n",
              "    }\n",
              "\n",
              "    .colab-df-convert {\n",
              "      background-color: #E8F0FE;\n",
              "      border: none;\n",
              "      border-radius: 50%;\n",
              "      cursor: pointer;\n",
              "      display: none;\n",
              "      fill: #1967D2;\n",
              "      height: 32px;\n",
              "      padding: 0 0 0 0;\n",
              "      width: 32px;\n",
              "    }\n",
              "\n",
              "    .colab-df-convert:hover {\n",
              "      background-color: #E2EBFA;\n",
              "      box-shadow: 0px 1px 2px rgba(60, 64, 67, 0.3), 0px 1px 3px 1px rgba(60, 64, 67, 0.15);\n",
              "      fill: #174EA6;\n",
              "    }\n",
              "\n",
              "    [theme=dark] .colab-df-convert {\n",
              "      background-color: #3B4455;\n",
              "      fill: #D2E3FC;\n",
              "    }\n",
              "\n",
              "    [theme=dark] .colab-df-convert:hover {\n",
              "      background-color: #434B5C;\n",
              "      box-shadow: 0px 1px 3px 1px rgba(0, 0, 0, 0.15);\n",
              "      filter: drop-shadow(0px 1px 2px rgba(0, 0, 0, 0.3));\n",
              "      fill: #FFFFFF;\n",
              "    }\n",
              "  </style>\n",
              "\n",
              "      <script>\n",
              "        const buttonEl =\n",
              "          document.querySelector('#df-9fb5c530-d7ac-4bb8-8f21-9bcc8dbbe885 button.colab-df-convert');\n",
              "        buttonEl.style.display =\n",
              "          google.colab.kernel.accessAllowed ? 'block' : 'none';\n",
              "\n",
              "        async function convertToInteractive(key) {\n",
              "          const element = document.querySelector('#df-9fb5c530-d7ac-4bb8-8f21-9bcc8dbbe885');\n",
              "          const dataTable =\n",
              "            await google.colab.kernel.invokeFunction('convertToInteractive',\n",
              "                                                     [key], {});\n",
              "          if (!dataTable) return;\n",
              "\n",
              "          const docLinkHtml = 'Like what you see? Visit the ' +\n",
              "            '<a target=\"_blank\" href=https://colab.research.google.com/notebooks/data_table.ipynb>data table notebook</a>'\n",
              "            + ' to learn more about interactive tables.';\n",
              "          element.innerHTML = '';\n",
              "          dataTable['output_type'] = 'display_data';\n",
              "          await google.colab.output.renderOutput(dataTable, element);\n",
              "          const docLink = document.createElement('div');\n",
              "          docLink.innerHTML = docLinkHtml;\n",
              "          element.appendChild(docLink);\n",
              "        }\n",
              "      </script>\n",
              "    </div>\n",
              "  </div>\n",
              "  "
            ]
          },
          "metadata": {},
          "execution_count": 47
        }
      ]
    },
    {
      "cell_type": "code",
      "source": [
        "chomage_sex[\"troisième-trimestre 2020\"]"
      ],
      "metadata": {
        "colab": {
          "base_uri": "https://localhost:8080/"
        },
        "id": "XQY2W8Cxp3Uc",
        "outputId": "bfe75583-6df8-405d-8a7c-aa61e00b012b"
      },
      "execution_count": null,
      "outputs": [
        {
          "output_type": "execute_result",
          "data": {
            "text/plain": [
              "7    402.1\n",
              "8    274.5\n",
              "Name: troisième-trimestre 2020, dtype: float64"
            ]
          },
          "metadata": {},
          "execution_count": 48
        }
      ]
    },
    {
      "cell_type": "code",
      "source": [
        "chomage_sex['troisième-trimestre 2020'].plot(kind='pie',\n",
        "                            figsize=(5, 6),\n",
        "                            autopct='%1.1f%%', # add in percentages\n",
        "                            startangle=90,     # start angle 90° \n",
        "                            shadow=True,        # add shadow  \n",
        "                            labels=None,         # turn off labels on pie chart \n",
        "                            )\n",
        "\n",
        "plt.title('Unemployment in the third quarter of 2020')\n",
        "plt.axis('equal') # Sets the pie chart to look like a circle.\n",
        "\n",
        "plt.legend(labels=['Male', 'Female'], loc='upper right') \n",
        "\n",
        "plt.show()"
      ],
      "metadata": {
        "colab": {
          "base_uri": "https://localhost:8080/",
          "height": 521
        },
        "id": "4JTvmr6SoQUd",
        "outputId": "04e57453-5f99-48bb-c0ce-b34acf4d1091"
      },
      "execution_count": null,
      "outputs": [
        {
          "output_type": "display_data",
          "data": {
            "text/plain": [
              "<Figure size 500x600 with 1 Axes>"
            ],
            "image/png": "[encoded data removed]"
          },
          "metadata": {}
        }
      ]
    },
    {
      "cell_type": "markdown",
      "source": [
        "As for our last indicator, we extracted data comparing male and female percentages from the unemployed population to tackle the issue of inclusion and equity in the Tunisian economy.\n",
        "Through the most recent data of 2020 provided by INS, Male unemployment is almost 20% higher than female unemployment. Although this data might indicate that more women are employed and kept their jobs in 2020, more insight on women's employability percentage from the overall women population in Tunisia can help us understand more the position of women in pushing the economy.\n"
      ],
      "metadata": {
        "id": "nwT4m4hQ6ScR"
      }
    },
    {
      "cell_type": "markdown",
      "source": [
        "# **Conclusion for our analysis:**\n",
        "\n"
      ],
      "metadata": {
        "id": "ySv8vmMAZV4J"
      }
    },
    {
      "cell_type": "markdown",
      "source": [
        "Based on the entire research, we can conclude that Tunisia's economic status is mixed. While GDP growth signals economic prosperity, high inflation, rising unemployment, and gender disparities in the job market all pose challenges to the labor market's stability and inclusion.\n",
        "\n",
        "Based on the previous analysis, some recommendations should be considered: \n",
        "\n",
        "\n",
        "1. Policymakers should enact strategies to diversify the private sector, stabilize inflation, and address unemployment through job creation initiatives.\n",
        "2. Policymakers need to focus on reducing gender disparity in the job market through equality-promoting measures.\n",
        "3. Investors should explore opportunities in non-dominant sectors, while closely monitoring inflation and unemployment trends.\n",
        "4. Both policymakers and investors must prioritize risk assessment and due diligence given Tunisia's current economic climate.\n"
      ],
      "metadata": {
        "id": "XS7RQB0m6cOX"
      }
    }
  ]
}